{
  "metadata": {
    "kernelspec": {
      "display_name": "Python 3",
      "name": "python3"
    },
    "language_info": {
      "pygments_lexer": "ipython3",
      "nbconvert_exporter": "python",
      "version": "3.6.4",
      "file_extension": ".py",
      "codemirror_mode": {
        "name": "ipython",
        "version": 3
      },
      "name": "python",
      "mimetype": "text/x-python"
    },
    "kaggle": {
      "accelerator": "gpu",
      "dataSources": [
        {
          "sourceId": 3733921,
          "sourceType": "datasetVersion",
          "datasetId": 2232355
        }
      ],
      "dockerImageVersionId": 30497,
      "isInternetEnabled": false,
      "language": "python",
      "sourceType": "notebook",
      "isGpuEnabled": true
    },
    "colab": {
      "provenance": []
    }
  },
  "nbformat_minor": 0,
  "nbformat": 4,
  "cells": [
    {
      "cell_type": "markdown",
      "source": [
        "# Human Action Recognition with CNN"
      ],
      "metadata": {
        "papermill": {
          "duration": 0.01216,
          "end_time": "2023-04-27T13:55:37.279",
          "exception": false,
          "start_time": "2023-04-27T13:55:37.26684",
          "status": "completed"
        },
        "tags": [],
        "id": "6h1irCB_-NQx"
      }
    },
    {
      "cell_type": "markdown",
      "source": [
        "Installing package to downlaod dataset from Kaggle"
      ],
      "metadata": {
        "id": "Yp2pEiWkgkMe"
      }
    },
    {
      "cell_type": "code",
      "source": [
        "!pip install opendatasets"
      ],
      "metadata": {
        "id": "RNgqrnssfKWk"
      },
      "execution_count": null,
      "outputs": []
    },
    {
      "cell_type": "markdown",
      "source": [
        "Importing the dataset from Kaggle"
      ],
      "metadata": {
        "id": "RkI_Y3rahH4j"
      }
    },
    {
      "cell_type": "code",
      "source": [
        "import opendatasets as od\n",
        "\n",
        "od.download(\"https://www.kaggle.com/datasets/meetnagadia/human-action-recognition-har-dataset\")\n",
        "#2e344cb00471082503f5314871abf63d"
      ],
      "metadata": {
        "id": "A_Ieli3sfrxt"
      },
      "execution_count": null,
      "outputs": []
    },
    {
      "cell_type": "code",
      "source": [
        "#import of numpy and pandas libraries, set of mixed precision\n",
        "import numpy as np\n",
        "import pandas as pd\n",
        "from tensorflow.keras import mixed_precision\n",
        "mixed_precision.set_global_policy('mixed_float16')\n"
      ],
      "metadata": {
        "_cell_guid": "b1076dfc-b9ad-4769-8c92-a6c4dae69d19",
        "_uuid": "8f2839f25d086af736a60e9eeb907d3b93b6e0e5",
        "papermill": {
          "duration": 7.189713,
          "end_time": "2023-04-27T13:55:44.501325",
          "exception": false,
          "start_time": "2023-04-27T13:55:37.311612",
          "status": "completed"
        },
        "tags": [],
        "execution": {
          "iopub.status.busy": "2023-05-26T09:59:56.035058Z",
          "iopub.execute_input": "2023-05-26T09:59:56.035455Z",
          "iopub.status.idle": "2023-05-26T09:59:56.041441Z",
          "shell.execute_reply.started": "2023-05-26T09:59:56.03541Z",
          "shell.execute_reply": "2023-05-26T09:59:56.040527Z"
        },
        "trusted": true,
        "id": "8JIIIu_V-NQ0"
      },
      "execution_count": null,
      "outputs": []
    },
    {
      "cell_type": "markdown",
      "source": [
        "Definition of model hyperparameters"
      ],
      "metadata": {
        "id": "o-jD5kMrvV0f"
      }
    },
    {
      "cell_type": "code",
      "source": [
        "FINE_TUNING_EPOCHS = 8  #number of epochs for training\n",
        "BATCH_SIZE = 32\n",
        "\n",
        "#dimension in pixel of the images\n",
        "image_height = 180\n",
        "image_width = 300"
      ],
      "metadata": {
        "papermill": {
          "duration": 0.019179,
          "end_time": "2023-04-27T13:55:44.562084",
          "exception": false,
          "start_time": "2023-04-27T13:55:44.542905",
          "status": "completed"
        },
        "tags": [],
        "execution": {
          "iopub.status.busy": "2023-05-26T09:59:56.043938Z",
          "iopub.execute_input": "2023-05-26T09:59:56.044602Z",
          "iopub.status.idle": "2023-05-26T09:59:56.055806Z",
          "shell.execute_reply.started": "2023-05-26T09:59:56.044568Z",
          "shell.execute_reply": "2023-05-26T09:59:56.054801Z"
        },
        "trusted": true,
        "id": "tsZyilDl-NQ2"
      },
      "execution_count": null,
      "outputs": []
    },
    {
      "cell_type": "markdown",
      "source": [
        "Reading of input file (test/training)"
      ],
      "metadata": {
        "id": "MP75nNauv_sJ"
      }
    },
    {
      "cell_type": "code",
      "source": [
        "#path to the data files\n",
        "#assign of a variable for the folder path with input files\n",
        "main_path = \"/content/human-action-recognition-har-dataset/Human Action Recognition\"\n",
        "\n",
        "#read data\n",
        "test_df     = pd.read_csv(\"/content/human-action-recognition-har-dataset/Human Action Recognition/Testing_set.csv\")\n",
        "training_df = pd.read_csv(\"/content/human-action-recognition-har-dataset/Human Action Recognition/Training_set.csv\")"
      ],
      "metadata": {
        "papermill": {
          "duration": 0.036073,
          "end_time": "2023-04-27T13:55:44.630269",
          "exception": false,
          "start_time": "2023-04-27T13:55:44.594196",
          "status": "completed"
        },
        "tags": [],
        "execution": {
          "iopub.status.busy": "2023-05-26T09:59:56.057324Z",
          "iopub.execute_input": "2023-05-26T09:59:56.057939Z",
          "iopub.status.idle": "2023-05-26T09:59:56.086729Z",
          "shell.execute_reply.started": "2023-05-26T09:59:56.057905Z",
          "shell.execute_reply": "2023-05-26T09:59:56.085841Z"
        },
        "trusted": true,
        "id": "HjUVF9TK-NQ3"
      },
      "execution_count": null,
      "outputs": []
    },
    {
      "cell_type": "markdown",
      "source": [
        "Connecting Google Drive and copying my trained model on a new folder"
      ],
      "metadata": {
        "id": "jomJGIzTf9A0"
      }
    },
    {
      "cell_type": "code",
      "source": [
        "from google.colab import drive\n",
        "import shutil\n",
        "\n",
        "drive.mount('/content/drive')\n",
        "drive_location = '/content/drive/My Drive/Colab Notebooks/HAR'\n",
        "\n",
        "shutil.copytree(drive_location,'./myInceptionModel')"
      ],
      "metadata": {
        "id": "LWv3Q-RxgMHc"
      },
      "execution_count": null,
      "outputs": []
    },
    {
      "cell_type": "markdown",
      "source": [
        "Creation of training and validation data from training dataframe:\n",
        "\n",
        "\n",
        "*   Validation set: 10% of original training file\n",
        "*   Training set: 90% of original training file\n",
        "\n"
      ],
      "metadata": {
        "id": "-if029SEIkVe"
      }
    },
    {
      "cell_type": "code",
      "source": [
        "\n",
        "valid_df = training_df.groupby('label').apply(lambda x: x.sample(frac=0.10))\n",
        "valid_df = valid_df.droplevel(0)\n",
        "train_df = training_df.drop(valid_df.index)"
      ],
      "metadata": {
        "execution": {
          "iopub.status.busy": "2023-05-26T09:59:56.089295Z",
          "iopub.execute_input": "2023-05-26T09:59:56.089664Z",
          "iopub.status.idle": "2023-05-26T09:59:56.107787Z",
          "shell.execute_reply.started": "2023-05-26T09:59:56.089631Z",
          "shell.execute_reply": "2023-05-26T09:59:56.106661Z"
        },
        "trusted": true,
        "id": "6ZdpmSeH-NQ3"
      },
      "execution_count": null,
      "outputs": []
    },
    {
      "cell_type": "code",
      "source": [
        "#print first five element of training dataset with label\n",
        "training_df.head()"
      ],
      "metadata": {
        "papermill": {
          "duration": 0.030033,
          "end_time": "2023-04-27T13:55:44.67104",
          "exception": false,
          "start_time": "2023-04-27T13:55:44.641007",
          "status": "completed"
        },
        "tags": [],
        "execution": {
          "iopub.status.busy": "2023-05-26T09:59:56.110852Z",
          "iopub.execute_input": "2023-05-26T09:59:56.111114Z",
          "iopub.status.idle": "2023-05-26T09:59:56.120497Z",
          "shell.execute_reply.started": "2023-05-26T09:59:56.11109Z",
          "shell.execute_reply": "2023-05-26T09:59:56.119567Z"
        },
        "trusted": true,
        "id": "VegJqKlZ-NQ3"
      },
      "execution_count": null,
      "outputs": []
    },
    {
      "cell_type": "markdown",
      "source": [
        "Definition of variables to print pie chart"
      ],
      "metadata": {
        "id": "1x_oSxe2pUSN"
      }
    },
    {
      "cell_type": "code",
      "source": [
        "freq = training_df['label'].value_counts()\n",
        "train_freq = train_df['label'].value_counts()\n",
        "valid_freq = valid_df['label'].value_counts()\n"
      ],
      "metadata": {
        "papermill": {
          "duration": 0.024575,
          "end_time": "2023-04-27T13:55:44.706367",
          "exception": false,
          "start_time": "2023-04-27T13:55:44.681792",
          "status": "completed"
        },
        "tags": [],
        "execution": {
          "iopub.status.busy": "2023-05-26T09:59:56.121909Z",
          "iopub.execute_input": "2023-05-26T09:59:56.1226Z",
          "iopub.status.idle": "2023-05-26T09:59:56.135619Z",
          "shell.execute_reply.started": "2023-05-26T09:59:56.122566Z",
          "shell.execute_reply": "2023-05-26T09:59:56.134486Z"
        },
        "trusted": true,
        "id": "JUN33L6f-NQ4"
      },
      "execution_count": null,
      "outputs": []
    },
    {
      "cell_type": "code",
      "source": [
        "#pie graph representation of class frequency, the dataset is balanced\n",
        "freq.plot(kind='pie',figsize=(5,5),title='Human Activity',autopct='%1.1f%%',shadow = False,  fontsize=8);"
      ],
      "metadata": {
        "papermill": {
          "duration": 0.249688,
          "end_time": "2023-04-27T13:55:44.96708",
          "exception": false,
          "start_time": "2023-04-27T13:55:44.717392",
          "status": "completed"
        },
        "tags": [],
        "execution": {
          "iopub.status.busy": "2023-05-26T09:59:56.147038Z",
          "iopub.execute_input": "2023-05-26T09:59:56.147617Z",
          "iopub.status.idle": "2023-05-26T09:59:56.427689Z",
          "shell.execute_reply.started": "2023-05-26T09:59:56.147583Z",
          "shell.execute_reply": "2023-05-26T09:59:56.426705Z"
        },
        "trusted": true,
        "id": "IjLtuHZi-NQ5"
      },
      "execution_count": null,
      "outputs": []
    },
    {
      "cell_type": "markdown",
      "source": [
        "# Pre-processing"
      ],
      "metadata": {
        "papermill": {
          "duration": 0.011696,
          "end_time": "2023-04-27T13:55:45.076826",
          "exception": false,
          "start_time": "2023-04-27T13:55:45.06513",
          "status": "completed"
        },
        "tags": [],
        "id": "HN4DjHoQ-NQ5"
      }
    },
    {
      "cell_type": "code",
      "source": [
        "#importing deep learning libraries\n",
        "import tensorflow as tf\n",
        "import keras\n",
        "from keras.preprocessing.image import ImageDataGenerator\n",
        "from tensorflow.keras import applications\n",
        "from keras.models import Sequential, load_model\n",
        "from keras.layers import Conv2D, MaxPooling2D, GlobalAveragePooling2D, Flatten, Dense, Dropout\n",
        "from keras.preprocessing import image"
      ],
      "metadata": {
        "papermill": {
          "duration": 0.021017,
          "end_time": "2023-04-27T13:55:45.109517",
          "exception": false,
          "start_time": "2023-04-27T13:55:45.0885",
          "status": "completed"
        },
        "tags": [],
        "execution": {
          "iopub.status.busy": "2023-05-26T09:59:56.433071Z",
          "iopub.execute_input": "2023-05-26T09:59:56.433582Z",
          "iopub.status.idle": "2023-05-26T09:59:56.446325Z",
          "shell.execute_reply.started": "2023-05-26T09:59:56.433534Z",
          "shell.execute_reply": "2023-05-26T09:59:56.444915Z"
        },
        "trusted": true,
        "id": "9ZeuNTuo-NQ5"
      },
      "execution_count": null,
      "outputs": []
    },
    {
      "cell_type": "code",
      "source": [
        "#data Augmentation\n",
        "gen = ImageDataGenerator(rescale         = 1./255.,\n",
        "                         horizontal_flip = True,\n",
        "                         vertical_flip   = False,\n",
        "                         zoom_range      = 0.07,\n",
        "                         rotation_range  = 25,\n",
        "                         brightness_range=[0.5,1.5]\n",
        "                         )\n",
        "\n",
        "train_generator = gen.flow_from_dataframe(\n",
        "    train_df,\n",
        "    directory = main_path + \"/train\",\n",
        "    x_col = 'filename',\n",
        "    y_col = 'label',\n",
        "    color_mode = \"rgb\",\n",
        "    target_size = (image_height, image_width),\n",
        "    class_mode = \"categorical\",\n",
        "    batch_size = BATCH_SIZE,\n",
        "    shuffle = True,\n",
        "    seed = 42)"
      ],
      "metadata": {
        "papermill": {
          "duration": 2.508669,
          "end_time": "2023-04-27T13:55:47.629832",
          "exception": false,
          "start_time": "2023-04-27T13:55:45.121163",
          "status": "completed"
        },
        "tags": [],
        "execution": {
          "iopub.status.busy": "2023-05-26T09:59:56.448023Z",
          "iopub.execute_input": "2023-05-26T09:59:56.448902Z",
          "iopub.status.idle": "2023-05-26T10:00:11.083466Z",
          "shell.execute_reply.started": "2023-05-26T09:59:56.448862Z",
          "shell.execute_reply": "2023-05-26T10:00:11.082548Z"
        },
        "trusted": true,
        "id": "UuT0aSMV-NQ6"
      },
      "execution_count": null,
      "outputs": []
    },
    {
      "cell_type": "code",
      "source": [
        "test_gen = ImageDataGenerator(rescale = 1./255.)\n",
        "\n",
        "validation_generator = test_gen.flow_from_dataframe(\n",
        "    valid_df,\n",
        "    directory   = main_path + \"/train\",\n",
        "    x_col       = 'filename',\n",
        "    y_col       = 'label',\n",
        "    color_mode  =\"rgb\",\n",
        "    target_size = (image_height, image_width),\n",
        "    class_mode  = \"categorical\",\n",
        "    batch_size  = BATCH_SIZE,\n",
        "    shuffle     = False,\n",
        "    seed        = 42)\n",
        "\n",
        "test_generator = test_gen.flow_from_dataframe(\n",
        "    test_df,\n",
        "    directory   = main_path + \"/test\",\n",
        "    x_col       = 'filename',\n",
        "    #y_col       = 'labels',\n",
        "    color_mode  = \"rgb\",\n",
        "    target_size = (image_height, image_width),\n",
        "    class_mode = None,\n",
        "    batch_size  = BATCH_SIZE,\n",
        "    shuffle  = False)"
      ],
      "metadata": {
        "papermill": {
          "duration": 0.186696,
          "end_time": "2023-04-27T13:55:47.836173",
          "exception": false,
          "start_time": "2023-04-27T13:55:47.649477",
          "status": "completed"
        },
        "tags": [],
        "execution": {
          "iopub.status.busy": "2023-05-26T10:00:11.084682Z",
          "iopub.execute_input": "2023-05-26T10:00:11.085461Z",
          "iopub.status.idle": "2023-05-26T10:00:20.137679Z",
          "shell.execute_reply.started": "2023-05-26T10:00:11.085425Z",
          "shell.execute_reply": "2023-05-26T10:00:20.136788Z"
        },
        "trusted": true,
        "id": "mGcKdtWm-NQ6"
      },
      "execution_count": null,
      "outputs": []
    },
    {
      "cell_type": "code",
      "source": [
        "#save all training labels\n",
        "a = train_generator.class_indices\n",
        "class_names = list(a.keys())"
      ],
      "metadata": {
        "papermill": {
          "duration": 0.019567,
          "end_time": "2023-04-27T13:55:47.867614",
          "exception": false,
          "start_time": "2023-04-27T13:55:47.848047",
          "status": "completed"
        },
        "tags": [],
        "execution": {
          "iopub.status.busy": "2023-05-26T10:00:20.139157Z",
          "iopub.execute_input": "2023-05-26T10:00:20.139486Z",
          "iopub.status.idle": "2023-05-26T10:00:20.14409Z",
          "shell.execute_reply.started": "2023-05-26T10:00:20.139454Z",
          "shell.execute_reply": "2023-05-26T10:00:20.143131Z"
        },
        "trusted": true,
        "id": "G0XmuUBO-NQ7"
      },
      "execution_count": null,
      "outputs": []
    },
    {
      "cell_type": "code",
      "source": [
        "class_names"
      ],
      "metadata": {
        "papermill": {
          "duration": 0.02136,
          "end_time": "2023-04-27T13:55:47.900603",
          "exception": false,
          "start_time": "2023-04-27T13:55:47.879243",
          "status": "completed"
        },
        "tags": [],
        "execution": {
          "iopub.status.busy": "2023-05-26T10:00:20.145422Z",
          "iopub.execute_input": "2023-05-26T10:00:20.145991Z",
          "iopub.status.idle": "2023-05-26T10:00:20.156383Z",
          "shell.execute_reply.started": "2023-05-26T10:00:20.145954Z",
          "shell.execute_reply": "2023-05-26T10:00:20.155469Z"
        },
        "trusted": true,
        "id": "9AQyuxEV-NQ7"
      },
      "execution_count": null,
      "outputs": []
    },
    {
      "cell_type": "code",
      "source": [
        "#define function to print testing images with their label\n",
        "import matplotlib.pyplot as plt\n",
        "\n",
        "def plot_images(img, true_labels, predictions = None):\n",
        "    plt.figure(figsize=[12, 18])\n",
        "    for i in range(24):\n",
        "        plt.subplot(6, 4, i+1)\n",
        "        plt.imshow(img[i])\n",
        "        plt.axis('off')\n",
        "        if (predictions is not None):\n",
        "            if true_labels is not None:\n",
        "                plt.title(\"{}\\n {} {:.1f}%\".format(class_names[np.argmax(true_labels[i])], class_names[np.argmax(predictions[i])], 100 * np.max(predictions[i])))\n",
        "            else:\n",
        "                plt.title(\"{} {:.1f}%\".format(class_names[np.argmax(predictions[i])], 100 * np.max(predictions[i])))\n",
        "        else:\n",
        "            if true_labels is not None:\n",
        "                plt.title(class_names[np.argmax(true_labels[i])])"
      ],
      "metadata": {
        "papermill": {
          "duration": 0.021313,
          "end_time": "2023-04-27T13:55:47.933481",
          "exception": false,
          "start_time": "2023-04-27T13:55:47.912168",
          "status": "completed"
        },
        "tags": [],
        "execution": {
          "iopub.status.busy": "2023-05-26T10:00:20.157562Z",
          "iopub.execute_input": "2023-05-26T10:00:20.15846Z",
          "iopub.status.idle": "2023-05-26T10:00:20.168016Z",
          "shell.execute_reply.started": "2023-05-26T10:00:20.158428Z",
          "shell.execute_reply": "2023-05-26T10:00:20.167046Z"
        },
        "trusted": true,
        "id": "BP7TvRSP-NQ7"
      },
      "execution_count": null,
      "outputs": []
    },
    {
      "cell_type": "markdown",
      "source": [
        "# Definition of the function necessary to create the confusion matrix"
      ],
      "metadata": {
        "papermill": {
          "duration": 0.011795,
          "end_time": "2023-04-27T13:55:47.957102",
          "exception": false,
          "start_time": "2023-04-27T13:55:47.945307",
          "status": "completed"
        },
        "tags": [],
        "id": "etf9KrKa-NQ8"
      }
    },
    {
      "cell_type": "code",
      "source": [
        "#import libraries to show confusion matrix\n",
        "import seaborn as sns\n",
        "from sklearn.metrics import confusion_matrix #slkearn module\n",
        "\n",
        "def plot_confusion_matrix(y_true, y_pred, class_names, ax, title):\n",
        "    cm = confusion_matrix(y_true, y_pred)\n",
        "    sns.heatmap(\n",
        "        cm,\n",
        "        annot=True,\n",
        "        square=True,\n",
        "        xticklabels=class_names,\n",
        "        yticklabels=class_names,\n",
        "        fmt='d',\n",
        "        cmap=plt.cm.Blues,\n",
        "        cbar=False,\n",
        "        ax=ax)\n",
        "    ax.set_title(title, fontsize = 12)\n",
        "    ax.set_xticklabels(ax.get_xticklabels(), rotation = 45, ha = \"right\")\n",
        "    ax.set_ylabel('True Label', fontsize= 10)\n",
        "    ax.set_xlabel('Predicted Label', fontsize = 10)"
      ],
      "metadata": {
        "papermill": {
          "duration": 0.849563,
          "end_time": "2023-04-27T13:55:51.112057",
          "exception": false,
          "start_time": "2023-04-27T13:55:50.262494",
          "status": "completed"
        },
        "tags": [],
        "trusted": true,
        "id": "GoLkD5qt-NQ8"
      },
      "execution_count": null,
      "outputs": []
    },
    {
      "cell_type": "markdown",
      "source": [
        "# Definition Model"
      ],
      "metadata": {
        "papermill": {
          "duration": 0.037625,
          "end_time": "2023-04-27T13:55:51.354053",
          "exception": false,
          "start_time": "2023-04-27T13:55:51.316428",
          "status": "completed"
        },
        "tags": [],
        "id": "0JgKSwtw-NQ9"
      }
    },
    {
      "cell_type": "code",
      "source": [
        "#import tf module\n",
        "from tensorflow.keras.models import Model\n",
        "\n",
        "def create_model(base_model):\n",
        "\n",
        "    x = base_model.output\n",
        "    x = GlobalAveragePooling2D()(x)\n",
        "    x = Dense(128, activation = 'relu')(x) #activation function relu\n",
        "    x = Dropout(0.4)(x)\n",
        "    x = Dense(64, activation = 'relu')(x)\n",
        "    x = Dropout(0.2)(x)\n",
        "\n",
        "    outputs = Dense(len(class_names), activation='softmax')(x) #activation function softmax\n",
        "\n",
        "    model = Model(base_model.inputs, outputs)\n",
        "\n",
        "    return model"
      ],
      "metadata": {
        "papermill": {
          "duration": 0.050108,
          "end_time": "2023-04-27T13:55:51.442014",
          "exception": false,
          "start_time": "2023-04-27T13:55:51.391906",
          "status": "completed"
        },
        "tags": [],
        "trusted": true,
        "id": "Yj3rszHa-NQ9"
      },
      "execution_count": null,
      "outputs": []
    },
    {
      "cell_type": "code",
      "source": [
        "#specify how to train the model\n",
        "\n",
        "def fit_model(model, base_model, epochs, fine_tune = 0):\n",
        "\n",
        "    early = tf.keras.callbacks.EarlyStopping( patience = 10,\n",
        "                                              min_delta = 0.001,\n",
        "                                              restore_best_weights = True)\n",
        "\n",
        "    base_model.trainable = True\n",
        "    for layer in base_model.layers[:-fine_tune]:\n",
        "        layer.trainable = False\n",
        "\n",
        "    model.compile(optimizer=tf.keras.optimizers.Adam(learning_rate=0.0003,epsilon=1e-06),\n",
        "                  loss='categorical_crossentropy',\n",
        "                  metrics=['accuracy'])\n",
        "\n",
        "\n",
        "    history = model.fit(train_generator,\n",
        "                        validation_data = validation_generator,\n",
        "                        epochs = epochs,\n",
        "                        callbacks = [early])\n",
        "\n",
        "    return history"
      ],
      "metadata": {
        "papermill": {
          "duration": 0.051127,
          "end_time": "2023-04-27T13:55:51.533546",
          "exception": false,
          "start_time": "2023-04-27T13:55:51.482419",
          "status": "completed"
        },
        "tags": [],
        "trusted": true,
        "id": "mpWVyurt-NQ9"
      },
      "execution_count": null,
      "outputs": []
    },
    {
      "cell_type": "markdown",
      "source": [
        "\n",
        "\n",
        "# InceptionResNetV2 model creation"
      ],
      "metadata": {
        "papermill": {
          "duration": 0.038295,
          "end_time": "2023-04-27T13:55:51.608284",
          "exception": false,
          "start_time": "2023-04-27T13:55:51.569989",
          "status": "completed"
        },
        "tags": [],
        "id": "fv9TXarV-NQ-"
      }
    },
    {
      "cell_type": "code",
      "source": [
        "#pretrained model from Keras assigned to inception_base_model\n",
        "inception_base_model = tf.keras.applications.InceptionResNetV2(\n",
        "                     include_top = False,\n",
        "                     weights = 'imagenet',\n",
        "                     input_shape = (image_height, image_width, 3)\n",
        "                     )\n",
        "\n",
        "inception_model = create_model(inception_base_model) #model creation with definition model\n"
      ],
      "metadata": {
        "papermill": {
          "duration": 194.977688,
          "end_time": "2023-04-27T13:59:06.624267",
          "exception": false,
          "start_time": "2023-04-27T13:55:51.646579",
          "status": "completed"
        },
        "tags": [],
        "execution": {
          "iopub.status.idle": "2023-05-26T10:14:29.702582Z",
          "shell.execute_reply.started": "2023-05-26T10:00:22.70465Z",
          "shell.execute_reply": "2023-05-26T10:14:29.701497Z"
        },
        "trusted": true,
        "id": "FFPcJ_e2-NQ-"
      },
      "execution_count": null,
      "outputs": []
    },
    {
      "cell_type": "code",
      "source": [
        "nr_base_layers = len(inception_base_model.layers) #parameter to do training\n",
        "print(\"Inception base layers = \", nr_base_layers)\n",
        "\n",
        "#effect model training and saves accuracy and loss results in history variable to do graphics\n",
        "history = fit_model(inception_model, inception_base_model, epochs = FINE_TUNING_EPOCHS, fine_tune = int(nr_base_layers/4))\n",
        "\n",
        "#save the trained model in folder myInceptionModel\n",
        "inception_model.save('myInceptionModel')"
      ],
      "metadata": {
        "papermill": {
          "duration": 200.055024,
          "end_time": "2023-04-27T14:02:27.266952",
          "exception": false,
          "start_time": "2023-04-27T13:59:07.211928",
          "status": "completed"
        },
        "tags": [],
        "execution": {
          "iopub.status.busy": "2023-05-26T10:14:30.29591Z",
          "iopub.execute_input": "2023-05-26T10:14:30.296554Z",
          "iopub.status.idle": "2023-05-26T10:38:47.24271Z",
          "shell.execute_reply.started": "2023-05-26T10:14:30.296502Z",
          "shell.execute_reply": "2023-05-26T10:38:47.241691Z"
        },
        "trusted": true,
        "id": "vUOCY689-NQ-"
      },
      "execution_count": null,
      "outputs": []
    },
    {
      "cell_type": "markdown",
      "source": [
        "Uploading model to Google Drive"
      ],
      "metadata": {
        "id": "lwWoq0er-vmH"
      }
    },
    {
      "cell_type": "code",
      "source": [
        "#upload the entire model saved in Google Drive folder\n",
        "shutil.copytree('./myInceptionModel',drive_location)"
      ],
      "metadata": {
        "id": "mdCgfDbU-zRK"
      },
      "execution_count": null,
      "outputs": []
    },
    {
      "cell_type": "markdown",
      "source": [
        "Loading model from myInceptionModel"
      ],
      "metadata": {
        "id": "RzVz_ogBNycA"
      }
    },
    {
      "cell_type": "code",
      "source": [
        "inception_model = tf.keras.models.load_model('myInceptionModel')"
      ],
      "metadata": {
        "id": "2bJLmd1RWgtj"
      },
      "execution_count": null,
      "outputs": []
    },
    {
      "cell_type": "code",
      "source": [
        "#estimate accuracy score on validation images\n",
        "accuracy_score = inception_model.evaluate(validation_generator)\n",
        "\n",
        "print(accuracy_score)\n",
        "print(\"Accuracy: {:.2f}%\".format(accuracy_score[1] * 100))\n",
        "print(\"Loss: {:.3f}\".format(accuracy_score[0]))\n"
      ],
      "metadata": {
        "papermill": {
          "duration": 0.553385,
          "end_time": "2023-04-27T14:02:28.479908",
          "exception": false,
          "start_time": "2023-04-27T14:02:27.926523",
          "status": "completed"
        },
        "tags": [],
        "execution": {
          "iopub.status.busy": "2023-05-26T10:38:47.871918Z",
          "iopub.execute_input": "2023-05-26T10:38:47.872269Z",
          "iopub.status.idle": "2023-05-26T10:38:52.793347Z",
          "shell.execute_reply.started": "2023-05-26T10:38:47.872237Z",
          "shell.execute_reply": "2023-05-26T10:38:52.792047Z"
        },
        "trusted": true,
        "id": "c-TTwxm7-NQ_"
      },
      "execution_count": null,
      "outputs": []
    },
    {
      "cell_type": "code",
      "source": [
        "#variables to print confusion matrix\n",
        "validation_generator.reset()\n",
        "inception_val_preds = inception_model.predict(validation_generator)\n",
        "inception_val_pred_classes = np.argmax(inception_val_preds, axis=1)"
      ],
      "metadata": {
        "execution": {
          "iopub.status.busy": "2023-05-26T10:38:52.794951Z",
          "iopub.execute_input": "2023-05-26T10:38:52.795302Z",
          "iopub.status.idle": "2023-05-26T10:39:00.77173Z",
          "shell.execute_reply.started": "2023-05-26T10:38:52.795268Z",
          "shell.execute_reply": "2023-05-26T10:39:00.770677Z"
        },
        "trusted": true,
        "id": "PL6OLjoO-NQ_"
      },
      "execution_count": null,
      "outputs": []
    },
    {
      "cell_type": "code",
      "source": [
        "#effect test prediction\n",
        "test_generator.reset()\n",
        "inception_test_preds = inception_model.predict(test_generator)\n",
        "inception_test_pred_classes = np.argmax(inception_test_preds, axis=1)"
      ],
      "metadata": {
        "papermill": {
          "duration": 4.596765,
          "end_time": "2023-04-27T14:02:33.156277",
          "exception": false,
          "start_time": "2023-04-27T14:02:28.559512",
          "status": "completed"
        },
        "tags": [],
        "execution": {
          "iopub.status.busy": "2023-05-26T10:39:00.773375Z",
          "iopub.execute_input": "2023-05-26T10:39:00.773748Z",
          "iopub.status.idle": "2023-05-26T10:39:24.853848Z",
          "shell.execute_reply.started": "2023-05-26T10:39:00.773714Z",
          "shell.execute_reply": "2023-05-26T10:39:24.852928Z"
        },
        "trusted": true,
        "id": "93AbezAB-NQ_"
      },
      "execution_count": null,
      "outputs": []
    },
    {
      "cell_type": "code",
      "source": [
        "#show test results\n",
        "test_generator.reset()\n",
        "x = next(test_generator)\n",
        "plot_images(x, None, inception_test_preds)"
      ],
      "metadata": {
        "papermill": {
          "duration": 1.774302,
          "end_time": "2023-04-27T14:02:35.025213",
          "exception": false,
          "start_time": "2023-04-27T14:02:33.250911",
          "status": "completed"
        },
        "tags": [],
        "execution": {
          "iopub.status.busy": "2023-05-26T10:39:24.856343Z",
          "iopub.execute_input": "2023-05-26T10:39:24.857082Z",
          "iopub.status.idle": "2023-05-26T10:39:26.974246Z",
          "shell.execute_reply.started": "2023-05-26T10:39:24.857053Z",
          "shell.execute_reply": "2023-05-26T10:39:26.973415Z"
        },
        "trusted": true,
        "id": "2Eyh3iao-NQ_"
      },
      "execution_count": null,
      "outputs": []
    },
    {
      "cell_type": "markdown",
      "source": [
        "#Confusion matrix"
      ],
      "metadata": {
        "id": "dnpKw8oXiTxj"
      }
    },
    {
      "cell_type": "code",
      "source": [
        "#display confusion matrix of validation data\n",
        "fig, (ax1) = plt.subplots(1, figsize=(10, 8))\n",
        "\n",
        "true_classes = validation_generator.classes\n",
        "\n",
        "plot_confusion_matrix(true_classes, inception_val_pred_classes, class_names, ax1, title = \"Inception\")\n",
        "\n",
        "fig.suptitle(\"Confusion Matrix\", fontsize = 12)\n",
        "fig.tight_layout()\n",
        "fig.subplots_adjust(top=0.91)\n",
        "plt.show()"
      ],
      "metadata": {
        "id": "q6SDciXVsdFG"
      },
      "execution_count": null,
      "outputs": []
    }
  ]
}